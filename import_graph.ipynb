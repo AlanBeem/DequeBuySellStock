{
 "cells": [
  {
   "cell_type": "code",
   "execution_count": 1,
   "metadata": {},
   "outputs": [],
   "source": [
    "import graphviz\n",
    "\n",
    "\n",
    "def visualize_import_graph(input_string):\n",
    "    \"\"\"Visualizes the import graph using Graphviz, with a precondition of string formatting~:\n",
    "    \n",
    "stock_ledger.py\n",
    "\n",
    "from ledger_entry import LedgerEntry\n",
    "\n",
    "from stock_sale import StockSale, StockPurchase\n",
    "\n",
    "from random import SystemRandom\n",
    "\n",
    ".\"\"\"\n",
    "    node_list = []  # a labelled adjacency list: each node: [node id, node label, edge 1, edge 2, ..., edge ...]\n",
    "    # where applicable, interpret a line as a node or a node's edge\n",
    "    for line in input_string.split('\\n'):\n",
    "        line = line.lstrip(' #')  # remove comment markings and whitespace from front if present\n",
    "        if line.count('.') + line.count('from') + line.count('import') > 0:\n",
    "            if line.count('.') == 1 and line.count('import') == 0:  # a file name\n",
    "                split_line = line.split('.')\n",
    "                node_list.append([split_line[0], line])  # id, displayed label, \n",
    "            else:\n",
    "                node_list[-1].append(line.split(' ')[1])  # from ____ ... (edges)\n",
    "    # add any nodes implied by edges but not present\n",
    "    for node in node_list:\n",
    "        for n in node[2:]:\n",
    "            if n not in [n_i[0] for n_i in node_list]:\n",
    "                node_list.append([n, n])  # such as random: ['random', 'random']\n",
    "    ### in principle, could split into two methods here, but below is specific to the structure constructed above\n",
    "    dot = graphviz.Digraph(format='png')  # sets up for saving images in png format\n",
    "    for node in node_list:\n",
    "        dot.node(node[0], node[1])\n",
    "        for n in node[2:]:\n",
    "            dot.edge(node[0], n)\n",
    "    return dot\n",
    "    # to save, use dot.render(filename: str)\n",
    "\n"
   ]
  },
  {
   "cell_type": "code",
   "execution_count": 2,
   "metadata": {},
   "outputs": [
    {
     "data": {
      "text/plain": [
       "'import_graph_image.png'"
      ]
     },
     "execution_count": 2,
     "metadata": {},
     "output_type": "execute_result"
    }
   ],
   "source": [
    "visualize_import_graph(\"\"\"# # # main.ipynb\n",
    "# from trading_bot import TradingBot\n",
    "# from capital_gains_helper_methods import *\n",
    "# import matplotlib.pyplot as plt\n",
    "# import copy\n",
    "\n",
    "# # # capital_gains_helper_methods.py\n",
    "# from stock_ledger import StockLedger\n",
    "# from random import SystemRandom\n",
    "\n",
    "# # # ledger_entry.py\n",
    "# from linked_deque import LinkedDeque\n",
    "# from stock_purchase import StockPurchase\n",
    "\n",
    "# # # linked_deque.py\n",
    "# from collections.abc import Iterable\n",
    "\n",
    "# # # stock_ledger.py\n",
    "# from ledger_entry import LedgerEntry\n",
    "# from stock_sale import StockSale, StockPurchase\n",
    "# from random import SystemRandom\n",
    "\n",
    "# # # stock_purchase.py\n",
    "\n",
    "# # # stock_sale.py\n",
    "# from stock_purchase import StockPurchase\n",
    "\n",
    "# # # trading_bot.py\n",
    "# import time\n",
    "# from stock_ledger import StockLedger\n",
    "\"\"\").render('import_graph_image')"
   ]
  }
 ],
 "metadata": {
  "kernelspec": {
   "display_name": "base",
   "language": "python",
   "name": "python3"
  },
  "language_info": {
   "codemirror_mode": {
    "name": "ipython",
    "version": 3
   },
   "file_extension": ".py",
   "mimetype": "text/x-python",
   "name": "python",
   "nbconvert_exporter": "python",
   "pygments_lexer": "ipython3",
   "version": "3.12.4"
  }
 },
 "nbformat": 4,
 "nbformat_minor": 2
}
